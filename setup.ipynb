{
 "cells": [
  {
   "cell_type": "markdown",
   "id": "660bd0fc",
   "metadata": {},
   "source": [
    "# Instructions for JUSUF (first login)"
   ]
  },
  {
   "cell_type": "code",
   "execution_count": null,
   "id": "ed0f0cdc",
   "metadata": {},
   "outputs": [],
   "source": [
    "%run -m venv pyobs\n",
    "\n",
    "python3='~/pyobs/bin/python3'\n",
    "pip='~/pyobs/bin/pip'\n",
    "\n",
    "!{pip} install --upgrade pip\n",
    "!{pip} install ipykernel matplotlib\n",
    "!{pip} install -U git+https://github.com/mbruno46/pyobs.git@master#egg=pyobs\n",
    "!{python3} -m ipykernel install --user --name=pyobs"
   ]
  },
  {
   "cell_type": "code",
   "execution_count": null,
   "id": "6e044d47",
   "metadata": {},
   "outputs": [],
   "source": [
    "!jupyter kernelspec list"
   ]
  },
  {
   "cell_type": "markdown",
   "id": "d659d30f",
   "metadata": {},
   "source": [
    "# Instructions personal laptop\n",
    "\n",
    "### dependencies: git, g++, python3-dev (only linux, mac brew)\n",
    "\n",
    "```bash\n",
    "python3 -m venv pyobs\n",
    "source pyobs/bin/activate\n",
    "pip install jupyter jupyterlab\n",
    "pip install -U git+https://github.com/mbruno46/pyobs.git@master#egg=pyobs\n",
    "jupyter lab\n",
    "```"
   ]
  },
  {
   "cell_type": "markdown",
   "id": "ae9a6833",
   "metadata": {},
   "source": [
    "# Instructions gpt docker image\n",
    "\n",
    "1. Run the gpt docker image\n",
    "\n",
    "2. Launch a terminal from the jupyter interface\n",
    "\n",
    "3. Copy the following code\n",
    "\n",
    "```\n",
    "!sudo apt-get update\n",
    "!sudo apt-get install -y g++ python3-dev git\n",
    "%pip install https://github.com/mbruno46/bison/archive/main.zip\n",
    "%pip install https://github.com/mbruno46/pyobs/archive/master.zip\n",
    "```\n",
    "\n",
    "4. Open a new notebook"
   ]
  },
  {
   "cell_type": "code",
   "execution_count": null,
   "id": "5aff0ebf",
   "metadata": {},
   "outputs": [],
   "source": []
  }
 ],
 "metadata": {
  "kernelspec": {
   "display_name": "Python 3 (ipykernel)",
   "language": "python",
   "name": "python3"
  },
  "language_info": {
   "codemirror_mode": {
    "name": "ipython",
    "version": 3
   },
   "file_extension": ".py",
   "mimetype": "text/x-python",
   "name": "python",
   "nbconvert_exporter": "python",
   "pygments_lexer": "ipython3",
   "version": "3.10.8"
  }
 },
 "nbformat": 4,
 "nbformat_minor": 5
}
